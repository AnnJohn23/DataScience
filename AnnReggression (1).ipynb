{
 "cells": [
  {
   "cell_type": "code",
   "execution_count": 6,
   "id": "60d323d6",
   "metadata": {},
   "outputs": [],
   "source": [
    "#importing libraries\n",
    "import numpy as np\n",
    "import pandas as pd\n",
    "import matplotlib.pyplot as plt\n",
    "import seaborn as sns\n",
    "\n",
    "#import csv data\n",
    "data = pd.read_csv('Documents\\car_age_price.csv')"
   ]
  },
  {
   "cell_type": "markdown",
   "id": "98a32d77",
   "metadata": {},
   "source": [
    " Data Preprocessing:"
   ]
  },
  {
   "cell_type": "code",
   "execution_count": 7,
   "id": "e3c7b880",
   "metadata": {},
   "outputs": [
    {
     "data": {
      "text/html": [
       "<div>\n",
       "<style scoped>\n",
       "    .dataframe tbody tr th:only-of-type {\n",
       "        vertical-align: middle;\n",
       "    }\n",
       "\n",
       "    .dataframe tbody tr th {\n",
       "        vertical-align: top;\n",
       "    }\n",
       "\n",
       "    .dataframe thead th {\n",
       "        text-align: right;\n",
       "    }\n",
       "</style>\n",
       "<table border=\"1\" class=\"dataframe\">\n",
       "  <thead>\n",
       "    <tr style=\"text-align: right;\">\n",
       "      <th></th>\n",
       "      <th>Year</th>\n",
       "      <th>Price</th>\n",
       "    </tr>\n",
       "  </thead>\n",
       "  <tbody>\n",
       "    <tr>\n",
       "      <th>0</th>\n",
       "      <td>2018</td>\n",
       "      <td>465000</td>\n",
       "    </tr>\n",
       "    <tr>\n",
       "      <th>1</th>\n",
       "      <td>2019</td>\n",
       "      <td>755000</td>\n",
       "    </tr>\n",
       "    <tr>\n",
       "      <th>2</th>\n",
       "      <td>2019</td>\n",
       "      <td>700000</td>\n",
       "    </tr>\n",
       "    <tr>\n",
       "      <th>3</th>\n",
       "      <td>2018</td>\n",
       "      <td>465000</td>\n",
       "    </tr>\n",
       "    <tr>\n",
       "      <th>4</th>\n",
       "      <td>2018</td>\n",
       "      <td>465000</td>\n",
       "    </tr>\n",
       "  </tbody>\n",
       "</table>\n",
       "</div>"
      ],
      "text/plain": [
       "   Year   Price\n",
       "0  2018  465000\n",
       "1  2019  755000\n",
       "2  2019  700000\n",
       "3  2018  465000\n",
       "4  2018  465000"
      ]
     },
     "execution_count": 7,
     "metadata": {},
     "output_type": "execute_result"
    }
   ],
   "source": [
    "data.head()"
   ]
  },
  {
   "cell_type": "code",
   "execution_count": 8,
   "id": "686d65e4",
   "metadata": {},
   "outputs": [
    {
     "data": {
      "text/plain": [
       "(112, 2)"
      ]
     },
     "execution_count": 8,
     "metadata": {},
     "output_type": "execute_result"
    }
   ],
   "source": [
    "data.shape"
   ]
  },
  {
   "cell_type": "code",
   "execution_count": 9,
   "id": "52c0bde7",
   "metadata": {},
   "outputs": [
    {
     "name": "stdout",
     "output_type": "stream",
     "text": [
      "<class 'pandas.core.frame.DataFrame'>\n",
      "RangeIndex: 112 entries, 0 to 111\n",
      "Data columns (total 2 columns):\n",
      " #   Column  Non-Null Count  Dtype\n",
      "---  ------  --------------  -----\n",
      " 0   Year    112 non-null    int64\n",
      " 1   Price   112 non-null    int64\n",
      "dtypes: int64(2)\n",
      "memory usage: 1.9 KB\n"
     ]
    }
   ],
   "source": [
    "data.info()"
   ]
  },
  {
   "cell_type": "code",
   "execution_count": 10,
   "id": "27c4fc5a",
   "metadata": {},
   "outputs": [
    {
     "data": {
      "text/plain": [
       "Year     0\n",
       "Price    0\n",
       "dtype: int64"
      ]
     },
     "execution_count": 10,
     "metadata": {},
     "output_type": "execute_result"
    }
   ],
   "source": [
    "data.isna().sum()"
   ]
  },
  {
   "cell_type": "code",
   "execution_count": 11,
   "id": "c97bc14e",
   "metadata": {},
   "outputs": [
    {
     "data": {
      "text/html": [
       "<div>\n",
       "<style scoped>\n",
       "    .dataframe tbody tr th:only-of-type {\n",
       "        vertical-align: middle;\n",
       "    }\n",
       "\n",
       "    .dataframe tbody tr th {\n",
       "        vertical-align: top;\n",
       "    }\n",
       "\n",
       "    .dataframe thead th {\n",
       "        text-align: right;\n",
       "    }\n",
       "</style>\n",
       "<table border=\"1\" class=\"dataframe\">\n",
       "  <thead>\n",
       "    <tr style=\"text-align: right;\">\n",
       "      <th></th>\n",
       "      <th>Year</th>\n",
       "      <th>Price</th>\n",
       "    </tr>\n",
       "  </thead>\n",
       "  <tbody>\n",
       "    <tr>\n",
       "      <th>count</th>\n",
       "      <td>112.000000</td>\n",
       "      <td>112.000000</td>\n",
       "    </tr>\n",
       "    <tr>\n",
       "      <th>mean</th>\n",
       "      <td>2016.669643</td>\n",
       "      <td>483866.044643</td>\n",
       "    </tr>\n",
       "    <tr>\n",
       "      <th>std</th>\n",
       "      <td>1.629616</td>\n",
       "      <td>91217.450533</td>\n",
       "    </tr>\n",
       "    <tr>\n",
       "      <th>min</th>\n",
       "      <td>2013.000000</td>\n",
       "      <td>300000.000000</td>\n",
       "    </tr>\n",
       "    <tr>\n",
       "      <th>25%</th>\n",
       "      <td>2015.000000</td>\n",
       "      <td>423750.000000</td>\n",
       "    </tr>\n",
       "    <tr>\n",
       "      <th>50%</th>\n",
       "      <td>2017.000000</td>\n",
       "      <td>500000.000000</td>\n",
       "    </tr>\n",
       "    <tr>\n",
       "      <th>75%</th>\n",
       "      <td>2017.000000</td>\n",
       "      <td>550000.000000</td>\n",
       "    </tr>\n",
       "    <tr>\n",
       "      <th>max</th>\n",
       "      <td>2020.000000</td>\n",
       "      <td>755000.000000</td>\n",
       "    </tr>\n",
       "  </tbody>\n",
       "</table>\n",
       "</div>"
      ],
      "text/plain": [
       "              Year          Price\n",
       "count   112.000000     112.000000\n",
       "mean   2016.669643  483866.044643\n",
       "std       1.629616   91217.450533\n",
       "min    2013.000000  300000.000000\n",
       "25%    2015.000000  423750.000000\n",
       "50%    2017.000000  500000.000000\n",
       "75%    2017.000000  550000.000000\n",
       "max    2020.000000  755000.000000"
      ]
     },
     "execution_count": 11,
     "metadata": {},
     "output_type": "execute_result"
    }
   ],
   "source": [
    "data.describe()"
   ]
  },
  {
   "cell_type": "markdown",
   "id": "f96a90d0",
   "metadata": {},
   "source": [
    "Data Understandings:"
   ]
  },
  {
   "cell_type": "code",
   "execution_count": null,
   "id": "e8a96a12",
   "metadata": {},
   "outputs": [],
   "source": [
    "1)In the given dataset contains price of second-hand Hyundai grand i10 car with respect to year of making.\n",
    "2)There are 2 coloums,price is the target(dependent variable) and others are independent varible.\n",
    "3)There is no null or missing values in the data set.\n",
    "4)There are 112 observations are included within this data set."
   ]
  },
  {
   "cell_type": "markdown",
   "id": "b0dddc11",
   "metadata": {},
   "source": [
    "1. First of all, check whether there is any relationship between price and year"
   ]
  },
  {
   "cell_type": "code",
   "execution_count": 12,
   "id": "3960fbf7",
   "metadata": {},
   "outputs": [
    {
     "data": {
      "image/png": "[encoded data removed]",
      "text/plain": [
       "<Figure size 1500x900 with 2 Axes>"
      ]
     },
     "metadata": {},
     "output_type": "display_data"
    }
   ],
   "source": [
    "corrmatrix=data.corr()\n",
    "plt.subplots(figsize=(15,9))\n",
    "sns.heatmap(corrmatrix,annot=True,linewidth=0.3,cmap=\"PiYG\")\n",
    "plt.show()"
   ]
  },
  {
   "cell_type": "code",
   "execution_count": 30,
   "id": "2e4d3973",
   "metadata": {},
   "outputs": [
    {
     "name": "stdout",
     "output_type": "stream",
     "text": [
      "47608.56780807659 -95520922.49198581\n"
     ]
    },
    {
     "data": {
      "text/plain": [
       "(112, 1)"
      ]
     },
     "execution_count": 30,
     "metadata": {},
     "output_type": "execute_result"
    }
   ],
   "source": [
    "# spliting the data set into  y1 and  x1\n",
    "from sklearn.model_selection import train_test_split\n",
    "from sklearn import linear_model\n",
    "y1=data['Price']\n",
    "x1=data.drop(['Price'],axis=1)\n",
    "\n",
    "# spliting our reduced data set into 4 set\n",
    "x1_train,x1_test,y1_train,y1_test=train_test_split(x1,y1,random_state=42,test_size=0.20)\n",
    "lr1=linear_model.LinearRegression() # importing linear regression model. we creating an instance lr for its easy usage.\n",
    "model1=lr1.fit(x1_train,y1_train) #Training the model with xtrain and ytrain datas\n",
    "print(model1.coef_[0], model1.intercept_)\n",
    "\n",
    "# we have 3 independant variable (feature)\n",
    "x1.shape"
   ]
  },
  {
   "cell_type": "code",
   "execution_count": 17,
   "id": "118e6b8d",
   "metadata": {},
   "outputs": [],
   "source": [
    "predictions1=model1.predict(x1_test)"
   ]
  },
  {
   "cell_type": "code",
   "execution_count": 18,
   "id": "9acca8b2",
   "metadata": {},
   "outputs": [
    {
     "name": "stdout",
     "output_type": "stream",
     "text": [
      "The original outputs are:\n",
      " 40     525000\n",
      "65     495000\n",
      "4      465000\n",
      "47     450000\n",
      "42     550000\n",
      "69     300000\n",
      "26     550000\n",
      "11     500000\n",
      "10     500000\n",
      "44     550000\n",
      "73     320000\n",
      "55     550000\n",
      "68     465000\n",
      "97     640000\n",
      "0      465000\n",
      "18     500000\n",
      "53     345000\n",
      "80     390000\n",
      "103    375000\n",
      "91     520000\n",
      "36     550000\n",
      "12     500000\n",
      "31     550000\n",
      "Name: Price, dtype: int64 \n",
      "\n",
      "13 observations are taken for testing \n",
      "\n",
      "The predicted outputs are :\n",
      " [600775.91252081 505558.77690466 553167.34471273 553167.34471273\n",
      " 553167.34471273 410341.6412885  505558.77690466 553167.34471273\n",
      " 600775.91252081 600775.91252081 315124.50567235 505558.77690466\n",
      " 410341.6412885  648384.48032889 553167.34471273 600775.91252081\n",
      " 315124.50567235 410341.6412885  505558.77690466 505558.77690466\n",
      " 505558.77690466 505558.77690466 505558.77690466]\n"
     ]
    }
   ],
   "source": [
    "print('The original outputs are:\\n',y1_test,'\\n') # y1_test is the original output\n",
    "print((y1_test.nunique()),'observations are taken for testing \\n')\n",
    "print('The predicted outputs are :\\n',predictions1)"
   ]
  },
  {
   "cell_type": "code",
   "execution_count": 20,
   "id": "30abfdeb",
   "metadata": {},
   "outputs": [
    {
     "name": "stdout",
     "output_type": "stream",
     "text": [
      "MSE is : 4326906256.829671\n",
      "Rounded MSE value is 4326906256.83\n",
      "R^2 value : 0.36759313425902185\n",
      "Rounded R^2 value : 0.37\n"
     ]
    }
   ],
   "source": [
    "from sklearn.metrics import mean_squared_error\n",
    "from sklearn.metrics import r2_score\n",
    "mse1=mean_squared_error(y1_test,predictions1)\n",
    "print('MSE is :',mean_squared_error(y1_test,predictions1))\n",
    "print('Rounded MSE value is %0.2f'%mean_squared_error(y1_test,predictions1))\n",
    "rsquare1=r2_score(y1_test,predictions1)\n",
    "print('R^2 value :',r2_score(y1_test,predictions1))\n",
    "print('Rounded R^2 value : %0.2f'%r2_score(y1_test,predictions1))"
   ]
  },
  {
   "cell_type": "code",
   "execution_count": 33,
   "id": "c7cf33cf",
   "metadata": {},
   "outputs": [
    {
     "name": "stdout",
     "output_type": "stream",
     "text": [
      "47608.155599500424 -95520091.24791841\n"
     ]
    },
    {
     "data": {
      "text/plain": [
       "(112, 1)"
      ]
     },
     "execution_count": 33,
     "metadata": {},
     "output_type": "execute_result"
    }
   ],
   "source": [
    "# Lasso Regression\n",
    "from sklearn.model_selection import train_test_split\n",
    "from sklearn.linear_model import Lasso\n",
    "y1=data['Price']\n",
    "x1=data.drop(['Price'],axis=1)\n",
    "\n",
    "# spliting our reduced data set into 4 set\n",
    "x1_train,x1_test,y1_train,y1_test=train_test_split(x1,y1,random_state=42,test_size=0.20)\n",
    "lasso=Lasso(alpha=1) # importing linear regression model. we creating an instance lr for its easy usage.\n",
    "model2=lasso.fit(x1_train,y1_train) #Training the model with xtrain and ytrain datas\n",
    "print(model2.coef_[0], model2.intercept_)\n",
    "\n",
    "# we have 3 independant variable (feature)\n",
    "x1.shape"
   ]
  },
  {
   "cell_type": "code",
   "execution_count": 25,
   "id": "3f499d26",
   "metadata": {},
   "outputs": [],
   "source": [
    "predictions1=model1.predict(x1_test)"
   ]
  },
  {
   "cell_type": "code",
   "execution_count": 32,
   "id": "7806b759",
   "metadata": {},
   "outputs": [
    {
     "name": "stdout",
     "output_type": "stream",
     "text": [
      "The original outputs are:\n",
      " 40     525000\n",
      "65     495000\n",
      "4      465000\n",
      "47     450000\n",
      "42     550000\n",
      "69     300000\n",
      "26     550000\n",
      "11     500000\n",
      "10     500000\n",
      "44     550000\n",
      "73     320000\n",
      "55     550000\n",
      "68     465000\n",
      "97     640000\n",
      "0      465000\n",
      "18     500000\n",
      "53     345000\n",
      "80     390000\n",
      "103    375000\n",
      "91     520000\n",
      "36     550000\n",
      "12     500000\n",
      "31     550000\n",
      "Name: Price, dtype: int64 \n",
      "\n",
      "13 observations are taken for testing \n",
      "\n",
      "The predicted outputs are :\n",
      " [600774.90747294 505558.59627394 553166.75187345 553166.75187345\n",
      " 553166.75187345 410342.28507493 505558.59627394 553166.75187345\n",
      " 600774.90747294 600774.90747294 315125.97387594 505558.59627394\n",
      " 410342.28507493 648383.06307244 553166.75187345 600774.90747294\n",
      " 315125.97387594 410342.28507493 505558.59627394 505558.59627394\n",
      " 505558.59627394 505558.59627394 505558.59627394]\n"
     ]
    }
   ],
   "source": [
    "print('The original outputs are:\\n',y1_test,'\\n') # y1_test is the original output\n",
    "print((y1_test.nunique()),'observations are taken for testing \\n')\n",
    "print('The predicted outputs are :\\n',predictions1)"
   ]
  },
  {
   "cell_type": "code",
   "execution_count": 34,
   "id": "c4ccf3a7",
   "metadata": {},
   "outputs": [
    {
     "name": "stdout",
     "output_type": "stream",
     "text": [
      "MSE is : 4326859771.015669\n",
      "Rounded MSE value is 4326859771.02\n",
      "R^2 value : 0.3675999284778446\n",
      "Rounded R^2 value : 0.37\n"
     ]
    }
   ],
   "source": [
    "from sklearn.metrics import mean_squared_error\n",
    "from sklearn.metrics import r2_score\n",
    "mse1=mean_squared_error(y1_test,predictions1)\n",
    "print('MSE is :',mean_squared_error(y1_test,predictions1))\n",
    "print('Rounded MSE value is %0.2f'%mean_squared_error(y1_test,predictions1))\n",
    "rsquare1=r2_score(y1_test,predictions1)\n",
    "print('R^2 value :',r2_score(y1_test,predictions1))\n",
    "print('Rounded R^2 value : %0.2f'%r2_score(y1_test,predictions1))"
   ]
  },
  {
   "cell_type": "markdown",
   "id": "c80d8570",
   "metadata": {},
   "source": [
    "Findings:"
   ]
  },
  {
   "cell_type": "markdown",
   "id": "5dc36dcd",
   "metadata": {},
   "source": [
    "1)Predicted Price by Model1 by Linear Regression is 4326906256.829671, which is higher than Model2(Lasso Regression)'s prediction 4326859771.015669\n",
    "2)So,Linear Refressions is better that Lasso."
   ]
  }
 ],
 "metadata": {
  "kernelspec": {
   "display_name": "Python 3 (ipykernel)",
   "language": "python",
   "name": "python3"
  },
  "language_info": {
   "codemirror_mode": {
    "name": "ipython",
    "version": 3
   },
   "file_extension": ".py",
   "mimetype": "text/x-python",
   "name": "python",
   "nbconvert_exporter": "python",
   "pygments_lexer": "ipython3",
   "version": "3.9.13"
  }
 },
 "nbformat": 4,
 "nbformat_minor": 5
}
