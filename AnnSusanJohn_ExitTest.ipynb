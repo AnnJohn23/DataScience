{
 "cells": [
  {
   "cell_type": "code",
   "execution_count": 1,
   "id": "2ad737af",
   "metadata": {},
   "outputs": [],
   "source": [
    "#import dataset\n",
    "import pandas as pd\n",
    "import numpy as np\n",
    "#visualization\n",
    "import matplotlib.pyplot as plt\n",
    "import seaborn as sns\n",
    "#data preprocessing\n",
    "from sklearn.preprocessing import LabelEncoder\n",
    "#treating outlier\n",
    "from scipy import stats\n",
    "# interactive data visualization library\n",
    "import plotly.express  as px "
   ]
  },
  {
   "cell_type": "markdown",
   "id": "0e192883",
   "metadata": {},
   "source": [
    "# 1: Data Collection and Reading"
   ]
  },
  {
   "cell_type": "code",
   "execution_count": 3,
   "id": "ccdeb72f",
   "metadata": {},
   "outputs": [],
   "source": [
    "data = pd.read_csv(\"data_car.csv\")"
   ]
  },
  {
   "cell_type": "code",
   "execution_count": 4,
   "id": "64d8b287",
   "metadata": {},
   "outputs": [
    {
     "data": {
      "text/html": [
       "<div>\n",
       "<style scoped>\n",
       "    .dataframe tbody tr th:only-of-type {\n",
       "        vertical-align: middle;\n",
       "    }\n",
       "\n",
       "    .dataframe tbody tr th {\n",
       "        vertical-align: top;\n",
       "    }\n",
       "\n",
       "    .dataframe thead th {\n",
       "        text-align: right;\n",
       "    }\n",
       "</style>\n",
       "<table border=\"1\" class=\"dataframe\">\n",
       "  <thead>\n",
       "    <tr style=\"text-align: right;\">\n",
       "      <th></th>\n",
       "      <th>Make</th>\n",
       "      <th>Model</th>\n",
       "      <th>Year</th>\n",
       "      <th>Engine Fuel Type</th>\n",
       "      <th>Engine HP</th>\n",
       "      <th>Engine Cylinders</th>\n",
       "      <th>Transmission Type</th>\n",
       "      <th>Driven_Wheels</th>\n",
       "      <th>Number of Doors</th>\n",
       "      <th>Market Category</th>\n",
       "      <th>Vehicle Size</th>\n",
       "      <th>Vehicle Style</th>\n",
       "      <th>highway MPG</th>\n",
       "      <th>city mpg</th>\n",
       "      <th>Popularity</th>\n",
       "      <th>MSRP</th>\n",
       "    </tr>\n",
       "  </thead>\n",
       "  <tbody>\n",
       "    <tr>\n",
       "      <th>0</th>\n",
       "      <td>BMW</td>\n",
       "      <td>1 Series M</td>\n",
       "      <td>2011</td>\n",
       "      <td>premium unleaded (required)</td>\n",
       "      <td>335.0</td>\n",
       "      <td>6.0</td>\n",
       "      <td>MANUAL</td>\n",
       "      <td>rear wheel drive</td>\n",
       "      <td>2.0</td>\n",
       "      <td>Factory Tuner,Luxury,High-Performance</td>\n",
       "      <td>Compact</td>\n",
       "      <td>Coupe</td>\n",
       "      <td>26</td>\n",
       "      <td>19</td>\n",
       "      <td>3916</td>\n",
       "      <td>46135</td>\n",
       "    </tr>\n",
       "    <tr>\n",
       "      <th>1</th>\n",
       "      <td>BMW</td>\n",
       "      <td>1 Series</td>\n",
       "      <td>2011</td>\n",
       "      <td>premium unleaded (required)</td>\n",
       "      <td>300.0</td>\n",
       "      <td>6.0</td>\n",
       "      <td>MANUAL</td>\n",
       "      <td>rear wheel drive</td>\n",
       "      <td>2.0</td>\n",
       "      <td>Luxury,Performance</td>\n",
       "      <td>Compact</td>\n",
       "      <td>Convertible</td>\n",
       "      <td>28</td>\n",
       "      <td>19</td>\n",
       "      <td>3916</td>\n",
       "      <td>40650</td>\n",
       "    </tr>\n",
       "    <tr>\n",
       "      <th>2</th>\n",
       "      <td>BMW</td>\n",
       "      <td>1 Series</td>\n",
       "      <td>2011</td>\n",
       "      <td>premium unleaded (required)</td>\n",
       "      <td>300.0</td>\n",
       "      <td>6.0</td>\n",
       "      <td>MANUAL</td>\n",
       "      <td>rear wheel drive</td>\n",
       "      <td>2.0</td>\n",
       "      <td>Luxury,High-Performance</td>\n",
       "      <td>Compact</td>\n",
       "      <td>Coupe</td>\n",
       "      <td>28</td>\n",
       "      <td>20</td>\n",
       "      <td>3916</td>\n",
       "      <td>36350</td>\n",
       "    </tr>\n",
       "    <tr>\n",
       "      <th>3</th>\n",
       "      <td>BMW</td>\n",
       "      <td>1 Series</td>\n",
       "      <td>2011</td>\n",
       "      <td>premium unleaded (required)</td>\n",
       "      <td>230.0</td>\n",
       "      <td>6.0</td>\n",
       "      <td>MANUAL</td>\n",
       "      <td>rear wheel drive</td>\n",
       "      <td>2.0</td>\n",
       "      <td>Luxury,Performance</td>\n",
       "      <td>Compact</td>\n",
       "      <td>Coupe</td>\n",
       "      <td>28</td>\n",
       "      <td>18</td>\n",
       "      <td>3916</td>\n",
       "      <td>29450</td>\n",
       "    </tr>\n",
       "    <tr>\n",
       "      <th>4</th>\n",
       "      <td>BMW</td>\n",
       "      <td>1 Series</td>\n",
       "      <td>2011</td>\n",
       "      <td>premium unleaded (required)</td>\n",
       "      <td>230.0</td>\n",
       "      <td>6.0</td>\n",
       "      <td>MANUAL</td>\n",
       "      <td>rear wheel drive</td>\n",
       "      <td>2.0</td>\n",
       "      <td>Luxury</td>\n",
       "      <td>Compact</td>\n",
       "      <td>Convertible</td>\n",
       "      <td>28</td>\n",
       "      <td>18</td>\n",
       "      <td>3916</td>\n",
       "      <td>34500</td>\n",
       "    </tr>\n",
       "  </tbody>\n",
       "</table>\n",
       "</div>"
      ],
      "text/plain": [
       "  Make       Model  Year             Engine Fuel Type  Engine HP  \\\n",
       "0  BMW  1 Series M  2011  premium unleaded (required)      335.0   \n",
       "1  BMW    1 Series  2011  premium unleaded (required)      300.0   \n",
       "2  BMW    1 Series  2011  premium unleaded (required)      300.0   \n",
       "3  BMW    1 Series  2011  premium unleaded (required)      230.0   \n",
       "4  BMW    1 Series  2011  premium unleaded (required)      230.0   \n",
       "\n",
       "   Engine Cylinders Transmission Type     Driven_Wheels  Number of Doors  \\\n",
       "0               6.0            MANUAL  rear wheel drive              2.0   \n",
       "1               6.0            MANUAL  rear wheel drive              2.0   \n",
       "2               6.0            MANUAL  rear wheel drive              2.0   \n",
       "3               6.0            MANUAL  rear wheel drive              2.0   \n",
       "4               6.0            MANUAL  rear wheel drive              2.0   \n",
       "\n",
       "                         Market Category Vehicle Size Vehicle Style  \\\n",
       "0  Factory Tuner,Luxury,High-Performance      Compact         Coupe   \n",
       "1                     Luxury,Performance      Compact   Convertible   \n",
       "2                Luxury,High-Performance      Compact         Coupe   \n",
       "3                     Luxury,Performance      Compact         Coupe   \n",
       "4                                 Luxury      Compact   Convertible   \n",
       "\n",
       "   highway MPG  city mpg  Popularity   MSRP  \n",
       "0           26        19        3916  46135  \n",
       "1           28        19        3916  40650  \n",
       "2           28        20        3916  36350  \n",
       "3           28        18        3916  29450  \n",
       "4           28        18        3916  34500  "
      ]
     },
     "execution_count": 4,
     "metadata": {},
     "output_type": "execute_result"
    }
   ],
   "source": [
    "data.head()"
   ]
  },
  {
   "cell_type": "code",
   "execution_count": 5,
   "id": "9bbad2cc",
   "metadata": {},
   "outputs": [
    {
     "data": {
      "text/plain": [
       "(11914, 16)"
      ]
     },
     "execution_count": 5,
     "metadata": {},
     "output_type": "execute_result"
    }
   ],
   "source": [
    "data.shape#no:of rows and coloumns"
   ]
  },
  {
   "cell_type": "code",
   "execution_count": 6,
   "id": "46a573b2",
   "metadata": {},
   "outputs": [
    {
     "name": "stdout",
     "output_type": "stream",
     "text": [
      "<class 'pandas.core.frame.DataFrame'>\n",
      "RangeIndex: 11914 entries, 0 to 11913\n",
      "Data columns (total 16 columns):\n",
      " #   Column             Non-Null Count  Dtype  \n",
      "---  ------             --------------  -----  \n",
      " 0   Make               11914 non-null  object \n",
      " 1   Model              11914 non-null  object \n",
      " 2   Year               11914 non-null  int64  \n",
      " 3   Engine Fuel Type   11911 non-null  object \n",
      " 4   Engine HP          11845 non-null  float64\n",
      " 5   Engine Cylinders   11884 non-null  float64\n",
      " 6   Transmission Type  11914 non-null  object \n",
      " 7   Driven_Wheels      11914 non-null  object \n",
      " 8   Number of Doors    11908 non-null  float64\n",
      " 9   Market Category    8172 non-null   object \n",
      " 10  Vehicle Size       11914 non-null  object \n",
      " 11  Vehicle Style      11914 non-null  object \n",
      " 12  highway MPG        11914 non-null  int64  \n",
      " 13  city mpg           11914 non-null  int64  \n",
      " 14  Popularity         11914 non-null  int64  \n",
      " 15  MSRP               11914 non-null  int64  \n",
      "dtypes: float64(3), int64(5), object(8)\n",
      "memory usage: 1.5+ MB\n"
     ]
    }
   ],
   "source": [
    "data.info()"
   ]
  },
  {
   "cell_type": "code",
   "execution_count": 7,
   "id": "d37cf838",
   "metadata": {},
   "outputs": [
    {
     "data": {
      "text/plain": [
       "Index(['Make', 'Model', 'Year', 'Engine Fuel Type', 'Engine HP',\n",
       "       'Engine Cylinders', 'Transmission Type', 'Driven_Wheels',\n",
       "       'Number of Doors', 'Market Category', 'Vehicle Size', 'Vehicle Style',\n",
       "       'highway MPG', 'city mpg', 'Popularity', 'MSRP'],\n",
       "      dtype='object')"
      ]
     },
     "execution_count": 7,
     "metadata": {},
     "output_type": "execute_result"
    }
   ],
   "source": [
    "data.columns"
   ]
  },
  {
   "cell_type": "code",
   "execution_count": 33,
   "id": "2deb6392",
   "metadata": {},
   "outputs": [],
   "source": [
    "#Renaming column names\n",
    "data.rename(columns = {'Engine Fuel Type':'Engine_Fuel_Type'}, inplace = True)\n",
    "data.rename(columns = {'Engine Cylinders':'Engine_Cylinders'}, inplace = True)\n",
    "data.rename(columns = {'Transmission Type':'Transmission_Type'}, inplace = True)\n",
    "data.rename(columns = {'Number of Doors':'Number_of_Doors'}, inplace = True)\n",
    "data.rename(columns = {'Vehicle Size':'Vehicle_Size'}, inplace = True)\n",
    "data.rename(columns = {'highway MPG':'highway_MPG'}, inplace = True)\n",
    "data.rename(columns = {'city mpg':'city_mpg'}, inplace = True)\n",
    "data.rename(columns = {'Engine HP':'Engine_HP'}, inplace = True)\n",
    "data.rename(columns = {'Market Category':'Market_Category'}, inplace = True)"
   ]
  },
  {
   "cell_type": "code",
   "execution_count": 34,
   "id": "01c93feb",
   "metadata": {},
   "outputs": [
    {
     "data": {
      "text/plain": [
       "Index(['Make', 'Model', 'Year', 'Engine_Fuel_Type', 'Engine_HP',\n",
       "       'Engine_Cylinders', 'Transmission_Type', 'Driven_Wheels',\n",
       "       'Number_of_Doors', 'Market_Category', 'Vehicle_Size', 'Vehicle Style',\n",
       "       'highway_MPG', 'city_mpg', 'Popularity', 'MSRP'],\n",
       "      dtype='object')"
      ]
     },
     "execution_count": 34,
     "metadata": {},
     "output_type": "execute_result"
    }
   ],
   "source": [
    "data.columns"
   ]
  },
  {
   "cell_type": "markdown",
   "id": "a268c23e",
   "metadata": {},
   "source": [
    "# 2: Pre-Processing"
   ]
  },
  {
   "cell_type": "code",
   "execution_count": 35,
   "id": "0f4fcd2d",
   "metadata": {},
   "outputs": [
    {
     "data": {
      "text/plain": [
       "Make                 0\n",
       "Model                0\n",
       "Year                 0\n",
       "Engine_Fuel_Type     0\n",
       "Engine_HP            0\n",
       "Engine_Cylinders     0\n",
       "Transmission_Type    0\n",
       "Driven_Wheels        0\n",
       "Number_of_Doors      0\n",
       "Market_Category      0\n",
       "Vehicle_Size         0\n",
       "Vehicle Style        0\n",
       "highway_MPG          0\n",
       "city_mpg             0\n",
       "Popularity           0\n",
       "MSRP                 0\n",
       "dtype: int64"
      ]
     },
     "execution_count": 35,
     "metadata": {},
     "output_type": "execute_result"
    }
   ],
   "source": [
    "data.isna().sum()#using boolean sum. isna() gives back true or false value. By sum() we get number of null values."
   ]
  },
  {
   "cell_type": "code",
   "execution_count": 9,
   "id": "1fbe160e",
   "metadata": {},
   "outputs": [
    {
     "data": {
      "text/html": [
       "<div>\n",
       "<style scoped>\n",
       "    .dataframe tbody tr th:only-of-type {\n",
       "        vertical-align: middle;\n",
       "    }\n",
       "\n",
       "    .dataframe tbody tr th {\n",
       "        vertical-align: top;\n",
       "    }\n",
       "\n",
       "    .dataframe thead th {\n",
       "        text-align: right;\n",
       "    }\n",
       "</style>\n",
       "<table border=\"1\" class=\"dataframe\">\n",
       "  <thead>\n",
       "    <tr style=\"text-align: right;\">\n",
       "      <th></th>\n",
       "      <th>Total</th>\n",
       "      <th>percent</th>\n",
       "    </tr>\n",
       "  </thead>\n",
       "  <tbody>\n",
       "    <tr>\n",
       "      <th>Market Category</th>\n",
       "      <td>3742</td>\n",
       "      <td>31.408427</td>\n",
       "    </tr>\n",
       "    <tr>\n",
       "      <th>Engine HP</th>\n",
       "      <td>69</td>\n",
       "      <td>0.579151</td>\n",
       "    </tr>\n",
       "    <tr>\n",
       "      <th>Engine Cylinders</th>\n",
       "      <td>30</td>\n",
       "      <td>0.251805</td>\n",
       "    </tr>\n",
       "    <tr>\n",
       "      <th>Number of Doors</th>\n",
       "      <td>6</td>\n",
       "      <td>0.050361</td>\n",
       "    </tr>\n",
       "    <tr>\n",
       "      <th>Engine Fuel Type</th>\n",
       "      <td>3</td>\n",
       "      <td>0.025180</td>\n",
       "    </tr>\n",
       "    <tr>\n",
       "      <th>Make</th>\n",
       "      <td>0</td>\n",
       "      <td>0.000000</td>\n",
       "    </tr>\n",
       "    <tr>\n",
       "      <th>Model</th>\n",
       "      <td>0</td>\n",
       "      <td>0.000000</td>\n",
       "    </tr>\n",
       "    <tr>\n",
       "      <th>Year</th>\n",
       "      <td>0</td>\n",
       "      <td>0.000000</td>\n",
       "    </tr>\n",
       "    <tr>\n",
       "      <th>Transmission Type</th>\n",
       "      <td>0</td>\n",
       "      <td>0.000000</td>\n",
       "    </tr>\n",
       "    <tr>\n",
       "      <th>Driven_Wheels</th>\n",
       "      <td>0</td>\n",
       "      <td>0.000000</td>\n",
       "    </tr>\n",
       "    <tr>\n",
       "      <th>Vehicle Size</th>\n",
       "      <td>0</td>\n",
       "      <td>0.000000</td>\n",
       "    </tr>\n",
       "    <tr>\n",
       "      <th>Vehicle Style</th>\n",
       "      <td>0</td>\n",
       "      <td>0.000000</td>\n",
       "    </tr>\n",
       "    <tr>\n",
       "      <th>highway MPG</th>\n",
       "      <td>0</td>\n",
       "      <td>0.000000</td>\n",
       "    </tr>\n",
       "    <tr>\n",
       "      <th>city mpg</th>\n",
       "      <td>0</td>\n",
       "      <td>0.000000</td>\n",
       "    </tr>\n",
       "    <tr>\n",
       "      <th>Popularity</th>\n",
       "      <td>0</td>\n",
       "      <td>0.000000</td>\n",
       "    </tr>\n",
       "    <tr>\n",
       "      <th>MSRP</th>\n",
       "      <td>0</td>\n",
       "      <td>0.000000</td>\n",
       "    </tr>\n",
       "  </tbody>\n",
       "</table>\n",
       "</div>"
      ],
      "text/plain": [
       "                   Total    percent\n",
       "Market Category     3742  31.408427\n",
       "Engine HP             69   0.579151\n",
       "Engine Cylinders      30   0.251805\n",
       "Number of Doors        6   0.050361\n",
       "Engine Fuel Type       3   0.025180\n",
       "Make                   0   0.000000\n",
       "Model                  0   0.000000\n",
       "Year                   0   0.000000\n",
       "Transmission Type      0   0.000000\n",
       "Driven_Wheels          0   0.000000\n",
       "Vehicle Size           0   0.000000\n",
       "Vehicle Style          0   0.000000\n",
       "highway MPG            0   0.000000\n",
       "city mpg               0   0.000000\n",
       "Popularity             0   0.000000\n",
       "MSRP                   0   0.000000"
      ]
     },
     "execution_count": 9,
     "metadata": {},
     "output_type": "execute_result"
    }
   ],
   "source": [
    "#missing data percentage\n",
    "total = data.isna().sum().sort_values(ascending=False)\n",
    "percent = (data.isnull().sum()/data.isnull().count()).sort_values(ascending=False)\n",
    "percent = percent*100\n",
    "missing_data = pd.concat([total, percent], axis=1, keys=['Total','percent'])\n",
    "missing_data.head(20)"
   ]
  },
  {
   "cell_type": "code",
   "execution_count": 36,
   "id": "dd49a840",
   "metadata": {},
   "outputs": [],
   "source": [
    "data= data.dropna(subset=['Market_Category','Engine_HP','Engine_Cylinders'])\n",
    "# filling missing values using forward and backward fill\n",
    "data=data.fillna(method='ffill').fillna(method='bfill')\n"
   ]
  },
  {
   "cell_type": "code",
   "execution_count": 37,
   "id": "2ca560b6",
   "metadata": {},
   "outputs": [],
   "source": [
    "data.dropna(inplace=True)"
   ]
  },
  {
   "cell_type": "code",
   "execution_count": 38,
   "id": "5ae0aa1c",
   "metadata": {},
   "outputs": [
    {
     "data": {
      "text/plain": [
       "Make                 0\n",
       "Model                0\n",
       "Year                 0\n",
       "Engine_Fuel_Type     0\n",
       "Engine_HP            0\n",
       "Engine_Cylinders     0\n",
       "Transmission_Type    0\n",
       "Driven_Wheels        0\n",
       "Number_of_Doors      0\n",
       "Market_Category      0\n",
       "Vehicle_Size         0\n",
       "Vehicle Style        0\n",
       "highway_MPG          0\n",
       "city_mpg             0\n",
       "Popularity           0\n",
       "MSRP                 0\n",
       "dtype: int64"
      ]
     },
     "execution_count": 38,
     "metadata": {},
     "output_type": "execute_result"
    }
   ],
   "source": [
    "data.isna().sum()"
   ]
  },
  {
   "cell_type": "code",
   "execution_count": 39,
   "id": "7a008adf",
   "metadata": {},
   "outputs": [
    {
     "data": {
      "text/plain": [
       "(8085, 16)"
      ]
     },
     "execution_count": 39,
     "metadata": {},
     "output_type": "execute_result"
    }
   ],
   "source": [
    "data.shape"
   ]
  },
  {
   "cell_type": "code",
   "execution_count": 40,
   "id": "69d074e1",
   "metadata": {},
   "outputs": [
    {
     "data": {
      "text/plain": [
       "Make                   47\n",
       "Model                 713\n",
       "Year                   28\n",
       "Engine_Fuel_Type        8\n",
       "Engine_HP             327\n",
       "Engine_Cylinders        9\n",
       "Transmission_Type       5\n",
       "Driven_Wheels           4\n",
       "Number_of_Doors         3\n",
       "Market_Category        70\n",
       "Vehicle_Size            3\n",
       "Vehicle Style          16\n",
       "highway_MPG            44\n",
       "city_mpg               50\n",
       "Popularity             47\n",
       "MSRP                 4644\n",
       "dtype: int64"
      ]
     },
     "execution_count": 40,
     "metadata": {},
     "output_type": "execute_result"
    }
   ],
   "source": [
    "data.nunique()#count unique values in each column"
   ]
  },
  {
   "cell_type": "code",
   "execution_count": 41,
   "id": "56bbee5a",
   "metadata": {},
   "outputs": [
    {
     "data": {
      "text/html": [
       "<div>\n",
       "<style scoped>\n",
       "    .dataframe tbody tr th:only-of-type {\n",
       "        vertical-align: middle;\n",
       "    }\n",
       "\n",
       "    .dataframe tbody tr th {\n",
       "        vertical-align: top;\n",
       "    }\n",
       "\n",
       "    .dataframe thead th {\n",
       "        text-align: right;\n",
       "    }\n",
       "</style>\n",
       "<table border=\"1\" class=\"dataframe\">\n",
       "  <thead>\n",
       "    <tr style=\"text-align: right;\">\n",
       "      <th></th>\n",
       "      <th>Year</th>\n",
       "      <th>Engine_HP</th>\n",
       "      <th>Engine_Cylinders</th>\n",
       "      <th>Number_of_Doors</th>\n",
       "      <th>highway_MPG</th>\n",
       "      <th>city_mpg</th>\n",
       "      <th>Popularity</th>\n",
       "      <th>MSRP</th>\n",
       "    </tr>\n",
       "  </thead>\n",
       "  <tbody>\n",
       "    <tr>\n",
       "      <th>Year</th>\n",
       "      <td>1.000000</td>\n",
       "      <td>0.244155</td>\n",
       "      <td>-0.046459</td>\n",
       "      <td>0.182847</td>\n",
       "      <td>0.216390</td>\n",
       "      <td>0.180003</td>\n",
       "      <td>0.118315</td>\n",
       "      <td>0.133648</td>\n",
       "    </tr>\n",
       "    <tr>\n",
       "      <th>Engine_HP</th>\n",
       "      <td>0.244155</td>\n",
       "      <td>1.000000</td>\n",
       "      <td>0.811641</td>\n",
       "      <td>-0.196519</td>\n",
       "      <td>-0.473209</td>\n",
       "      <td>-0.512877</td>\n",
       "      <td>0.038350</td>\n",
       "      <td>0.657144</td>\n",
       "    </tr>\n",
       "    <tr>\n",
       "      <th>Engine_Cylinders</th>\n",
       "      <td>-0.046459</td>\n",
       "      <td>0.811641</td>\n",
       "      <td>1.000000</td>\n",
       "      <td>-0.179073</td>\n",
       "      <td>-0.603323</td>\n",
       "      <td>-0.615478</td>\n",
       "      <td>0.015182</td>\n",
       "      <td>0.589767</td>\n",
       "    </tr>\n",
       "    <tr>\n",
       "      <th>Number_of_Doors</th>\n",
       "      <td>0.182847</td>\n",
       "      <td>-0.196519</td>\n",
       "      <td>-0.179073</td>\n",
       "      <td>1.000000</td>\n",
       "      <td>0.103653</td>\n",
       "      <td>0.140403</td>\n",
       "      <td>-0.040618</td>\n",
       "      <td>-0.185210</td>\n",
       "    </tr>\n",
       "    <tr>\n",
       "      <th>highway_MPG</th>\n",
       "      <td>0.216390</td>\n",
       "      <td>-0.473209</td>\n",
       "      <td>-0.603323</td>\n",
       "      <td>0.103653</td>\n",
       "      <td>1.000000</td>\n",
       "      <td>0.821383</td>\n",
       "      <td>0.032344</td>\n",
       "      <td>-0.257955</td>\n",
       "    </tr>\n",
       "    <tr>\n",
       "      <th>city_mpg</th>\n",
       "      <td>0.180003</td>\n",
       "      <td>-0.512877</td>\n",
       "      <td>-0.615478</td>\n",
       "      <td>0.140403</td>\n",
       "      <td>0.821383</td>\n",
       "      <td>1.000000</td>\n",
       "      <td>0.036918</td>\n",
       "      <td>-0.268293</td>\n",
       "    </tr>\n",
       "    <tr>\n",
       "      <th>Popularity</th>\n",
       "      <td>0.118315</td>\n",
       "      <td>0.038350</td>\n",
       "      <td>0.015182</td>\n",
       "      <td>-0.040618</td>\n",
       "      <td>0.032344</td>\n",
       "      <td>0.036918</td>\n",
       "      <td>1.000000</td>\n",
       "      <td>-0.052047</td>\n",
       "    </tr>\n",
       "    <tr>\n",
       "      <th>MSRP</th>\n",
       "      <td>0.133648</td>\n",
       "      <td>0.657144</td>\n",
       "      <td>0.589767</td>\n",
       "      <td>-0.185210</td>\n",
       "      <td>-0.257955</td>\n",
       "      <td>-0.268293</td>\n",
       "      <td>-0.052047</td>\n",
       "      <td>1.000000</td>\n",
       "    </tr>\n",
       "  </tbody>\n",
       "</table>\n",
       "</div>"
      ],
      "text/plain": [
       "                      Year  Engine_HP  Engine_Cylinders  Number_of_Doors  \\\n",
       "Year              1.000000   0.244155         -0.046459         0.182847   \n",
       "Engine_HP         0.244155   1.000000          0.811641        -0.196519   \n",
       "Engine_Cylinders -0.046459   0.811641          1.000000        -0.179073   \n",
       "Number_of_Doors   0.182847  -0.196519         -0.179073         1.000000   \n",
       "highway_MPG       0.216390  -0.473209         -0.603323         0.103653   \n",
       "city_mpg          0.180003  -0.512877         -0.615478         0.140403   \n",
       "Popularity        0.118315   0.038350          0.015182        -0.040618   \n",
       "MSRP              0.133648   0.657144          0.589767        -0.185210   \n",
       "\n",
       "                  highway_MPG  city_mpg  Popularity      MSRP  \n",
       "Year                 0.216390  0.180003    0.118315  0.133648  \n",
       "Engine_HP           -0.473209 -0.512877    0.038350  0.657144  \n",
       "Engine_Cylinders    -0.603323 -0.615478    0.015182  0.589767  \n",
       "Number_of_Doors      0.103653  0.140403   -0.040618 -0.185210  \n",
       "highway_MPG          1.000000  0.821383    0.032344 -0.257955  \n",
       "city_mpg             0.821383  1.000000    0.036918 -0.268293  \n",
       "Popularity           0.032344  0.036918    1.000000 -0.052047  \n",
       "MSRP                -0.257955 -0.268293   -0.052047  1.000000  "
      ]
     },
     "execution_count": 41,
     "metadata": {},
     "output_type": "execute_result"
    }
   ],
   "source": [
    "corr = data.corr()#to find the correlation among the columns.\n",
    "corr"
   ]
  },
  {
   "cell_type": "code",
   "execution_count": 16,
   "id": "d6be40da",
   "metadata": {},
   "outputs": [
    {
     "data": {
      "text/plain": [
       "<AxesSubplot:>"
      ]
     },
     "execution_count": 16,
     "metadata": {},
     "output_type": "execute_result"
    },
    {
     "data": {
      "image/png": "[encoded data removed]",
      "text/plain": [
       "<Figure size 1500x1500 with 2 Axes>"
      ]
     },
     "metadata": {},
     "output_type": "display_data"
    }
   ],
   "source": [
    "fig, ax = plt.subplots(figsize=(15, 15))\n",
    "sns.heatmap(data.corr(),annot = True)"
   ]
  },
  {
   "cell_type": "code",
   "execution_count": 42,
   "id": "d1dd7380",
   "metadata": {},
   "outputs": [
    {
     "data": {
      "text/html": [
       "<div>\n",
       "<style scoped>\n",
       "    .dataframe tbody tr th:only-of-type {\n",
       "        vertical-align: middle;\n",
       "    }\n",
       "\n",
       "    .dataframe tbody tr th {\n",
       "        vertical-align: top;\n",
       "    }\n",
       "\n",
       "    .dataframe thead th {\n",
       "        text-align: right;\n",
       "    }\n",
       "</style>\n",
       "<table border=\"1\" class=\"dataframe\">\n",
       "  <thead>\n",
       "    <tr style=\"text-align: right;\">\n",
       "      <th></th>\n",
       "      <th>Year</th>\n",
       "      <th>Engine_HP</th>\n",
       "      <th>Engine_Cylinders</th>\n",
       "      <th>Number_of_Doors</th>\n",
       "      <th>highway_MPG</th>\n",
       "      <th>city_mpg</th>\n",
       "      <th>Popularity</th>\n",
       "      <th>MSRP</th>\n",
       "    </tr>\n",
       "  </thead>\n",
       "  <tbody>\n",
       "    <tr>\n",
       "      <th>count</th>\n",
       "      <td>8085.000000</td>\n",
       "      <td>8085.000000</td>\n",
       "      <td>8085.00000</td>\n",
       "      <td>8085.000000</td>\n",
       "      <td>8085.000000</td>\n",
       "      <td>8085.000000</td>\n",
       "      <td>8085.000000</td>\n",
       "      <td>8.085000e+03</td>\n",
       "    </tr>\n",
       "    <tr>\n",
       "      <th>mean</th>\n",
       "      <td>2012.058751</td>\n",
       "      <td>274.689301</td>\n",
       "      <td>5.77885</td>\n",
       "      <td>3.413976</td>\n",
       "      <td>26.649598</td>\n",
       "      <td>19.552628</td>\n",
       "      <td>1499.555473</td>\n",
       "      <td>5.010296e+04</td>\n",
       "    </tr>\n",
       "    <tr>\n",
       "      <th>std</th>\n",
       "      <td>6.317599</td>\n",
       "      <td>115.072511</td>\n",
       "      <td>1.88724</td>\n",
       "      <td>0.898169</td>\n",
       "      <td>7.720904</td>\n",
       "      <td>7.160153</td>\n",
       "      <td>1413.839229</td>\n",
       "      <td>7.034154e+04</td>\n",
       "    </tr>\n",
       "    <tr>\n",
       "      <th>min</th>\n",
       "      <td>1990.000000</td>\n",
       "      <td>55.000000</td>\n",
       "      <td>0.00000</td>\n",
       "      <td>2.000000</td>\n",
       "      <td>12.000000</td>\n",
       "      <td>7.000000</td>\n",
       "      <td>2.000000</td>\n",
       "      <td>2.000000e+03</td>\n",
       "    </tr>\n",
       "    <tr>\n",
       "      <th>25%</th>\n",
       "      <td>2010.000000</td>\n",
       "      <td>192.000000</td>\n",
       "      <td>4.00000</td>\n",
       "      <td>2.000000</td>\n",
       "      <td>22.000000</td>\n",
       "      <td>16.000000</td>\n",
       "      <td>549.000000</td>\n",
       "      <td>2.592000e+04</td>\n",
       "    </tr>\n",
       "    <tr>\n",
       "      <th>50%</th>\n",
       "      <td>2015.000000</td>\n",
       "      <td>264.000000</td>\n",
       "      <td>6.00000</td>\n",
       "      <td>4.000000</td>\n",
       "      <td>26.000000</td>\n",
       "      <td>18.000000</td>\n",
       "      <td>1013.000000</td>\n",
       "      <td>3.501000e+04</td>\n",
       "    </tr>\n",
       "    <tr>\n",
       "      <th>75%</th>\n",
       "      <td>2016.000000</td>\n",
       "      <td>320.000000</td>\n",
       "      <td>6.00000</td>\n",
       "      <td>4.000000</td>\n",
       "      <td>30.000000</td>\n",
       "      <td>22.000000</td>\n",
       "      <td>2009.000000</td>\n",
       "      <td>4.874500e+04</td>\n",
       "    </tr>\n",
       "    <tr>\n",
       "      <th>max</th>\n",
       "      <td>2017.000000</td>\n",
       "      <td>1001.000000</td>\n",
       "      <td>16.00000</td>\n",
       "      <td>4.000000</td>\n",
       "      <td>354.000000</td>\n",
       "      <td>137.000000</td>\n",
       "      <td>5657.000000</td>\n",
       "      <td>2.065902e+06</td>\n",
       "    </tr>\n",
       "  </tbody>\n",
       "</table>\n",
       "</div>"
      ],
      "text/plain": [
       "              Year    Engine_HP  Engine_Cylinders  Number_of_Doors  \\\n",
       "count  8085.000000  8085.000000        8085.00000      8085.000000   \n",
       "mean   2012.058751   274.689301           5.77885         3.413976   \n",
       "std       6.317599   115.072511           1.88724         0.898169   \n",
       "min    1990.000000    55.000000           0.00000         2.000000   \n",
       "25%    2010.000000   192.000000           4.00000         2.000000   \n",
       "50%    2015.000000   264.000000           6.00000         4.000000   \n",
       "75%    2016.000000   320.000000           6.00000         4.000000   \n",
       "max    2017.000000  1001.000000          16.00000         4.000000   \n",
       "\n",
       "       highway_MPG     city_mpg   Popularity          MSRP  \n",
       "count  8085.000000  8085.000000  8085.000000  8.085000e+03  \n",
       "mean     26.649598    19.552628  1499.555473  5.010296e+04  \n",
       "std       7.720904     7.160153  1413.839229  7.034154e+04  \n",
       "min      12.000000     7.000000     2.000000  2.000000e+03  \n",
       "25%      22.000000    16.000000   549.000000  2.592000e+04  \n",
       "50%      26.000000    18.000000  1013.000000  3.501000e+04  \n",
       "75%      30.000000    22.000000  2009.000000  4.874500e+04  \n",
       "max     354.000000   137.000000  5657.000000  2.065902e+06  "
      ]
     },
     "execution_count": 42,
     "metadata": {},
     "output_type": "execute_result"
    }
   ],
   "source": [
    "data.describe()"
   ]
  },
  {
   "cell_type": "code",
   "execution_count": 43,
   "id": "5c2cad9e",
   "metadata": {},
   "outputs": [
    {
     "data": {
      "text/html": [
       "<div>\n",
       "<style scoped>\n",
       "    .dataframe tbody tr th:only-of-type {\n",
       "        vertical-align: middle;\n",
       "    }\n",
       "\n",
       "    .dataframe tbody tr th {\n",
       "        vertical-align: top;\n",
       "    }\n",
       "\n",
       "    .dataframe thead th {\n",
       "        text-align: right;\n",
       "    }\n",
       "</style>\n",
       "<table border=\"1\" class=\"dataframe\">\n",
       "  <thead>\n",
       "    <tr style=\"text-align: right;\">\n",
       "      <th></th>\n",
       "      <th>count</th>\n",
       "      <th>unique</th>\n",
       "      <th>top</th>\n",
       "      <th>freq</th>\n",
       "    </tr>\n",
       "  </thead>\n",
       "  <tbody>\n",
       "    <tr>\n",
       "      <th>Make</th>\n",
       "      <td>8085</td>\n",
       "      <td>47</td>\n",
       "      <td>Chevrolet</td>\n",
       "      <td>614</td>\n",
       "    </tr>\n",
       "    <tr>\n",
       "      <th>Model</th>\n",
       "      <td>8085</td>\n",
       "      <td>713</td>\n",
       "      <td>F-150</td>\n",
       "      <td>122</td>\n",
       "    </tr>\n",
       "    <tr>\n",
       "      <th>Engine_Fuel_Type</th>\n",
       "      <td>8085</td>\n",
       "      <td>8</td>\n",
       "      <td>regular unleaded</td>\n",
       "      <td>3507</td>\n",
       "    </tr>\n",
       "    <tr>\n",
       "      <th>Transmission_Type</th>\n",
       "      <td>8085</td>\n",
       "      <td>5</td>\n",
       "      <td>AUTOMATIC</td>\n",
       "      <td>5761</td>\n",
       "    </tr>\n",
       "    <tr>\n",
       "      <th>Driven_Wheels</th>\n",
       "      <td>8085</td>\n",
       "      <td>4</td>\n",
       "      <td>front wheel drive</td>\n",
       "      <td>2879</td>\n",
       "    </tr>\n",
       "    <tr>\n",
       "      <th>Market_Category</th>\n",
       "      <td>8085</td>\n",
       "      <td>70</td>\n",
       "      <td>Crossover</td>\n",
       "      <td>1103</td>\n",
       "    </tr>\n",
       "    <tr>\n",
       "      <th>Vehicle_Size</th>\n",
       "      <td>8085</td>\n",
       "      <td>3</td>\n",
       "      <td>Midsize</td>\n",
       "      <td>3187</td>\n",
       "    </tr>\n",
       "    <tr>\n",
       "      <th>Vehicle Style</th>\n",
       "      <td>8085</td>\n",
       "      <td>16</td>\n",
       "      <td>4dr SUV</td>\n",
       "      <td>2093</td>\n",
       "    </tr>\n",
       "  </tbody>\n",
       "</table>\n",
       "</div>"
      ],
      "text/plain": [
       "                  count unique                top  freq\n",
       "Make               8085     47          Chevrolet   614\n",
       "Model              8085    713              F-150   122\n",
       "Engine_Fuel_Type   8085      8   regular unleaded  3507\n",
       "Transmission_Type  8085      5          AUTOMATIC  5761\n",
       "Driven_Wheels      8085      4  front wheel drive  2879\n",
       "Market_Category    8085     70          Crossover  1103\n",
       "Vehicle_Size       8085      3            Midsize  3187\n",
       "Vehicle Style      8085     16            4dr SUV  2093"
      ]
     },
     "execution_count": 43,
     "metadata": {},
     "output_type": "execute_result"
    }
   ],
   "source": [
    "data.describe(include=\"object\").T\n"
   ]
  },
  {
   "cell_type": "markdown",
   "id": "cc6b4f1f",
   "metadata": {},
   "source": [
    "# Exploratory Data Analysis (EDA)"
   ]
  },
  {
   "cell_type": "code",
   "execution_count": 44,
   "id": "e3c2ac65",
   "metadata": {},
   "outputs": [
    {
     "name": "stdout",
     "output_type": "stream",
     "text": [
      "               Make\n",
      "Chevrolet       614\n",
      "Volkswagen      581\n",
      "Ford            492\n",
      "Cadillac        397\n",
      "Mercedes-Benz   352\n",
      "BMW             334\n",
      "Infiniti        330\n",
      "Audi            328\n",
      "Dodge           320\n",
      "Nissan          308\n",
      "Toyota          300\n",
      "Honda           282\n",
      "Volvo           281\n",
      "GMC             270\n",
      "Acura           252\n",
      "Mazda           239\n",
      "Subaru          214\n",
      "Hyundai         214\n",
      "Lexus           202\n",
      "Lincoln         156\n",
      "Land Rover      143\n",
      "Porsche         136\n",
      "Mitsubishi      125\n",
      "Buick           125\n",
      "Saab            111\n",
      "Kia             109\n",
      "Chrysler        108\n",
      "Suzuki           99\n",
      "Aston Martin     93\n",
      "Pontiac          77\n",
      "Bentley          74\n",
      "Ferrari          69\n",
      "Maserati         58\n",
      "Lamborghini      52\n",
      "Scion            48\n",
      "Plymouth         39\n",
      "FIAT             38\n",
      "Rolls-Royce      31\n",
      "Lotus            29\n",
      "HUMMER           17\n",
      "Maybach          16\n",
      "Alfa Romeo        5\n",
      "McLaren           5\n",
      "Spyker            3\n",
      "Genesis           3\n",
      "Oldsmobile        3\n",
      "Bugatti           3\n"
     ]
    },
    {
     "data": {
      "image/png": "[encoded data removed]",
      "text/plain": [
       "<Figure size 640x480 with 1 Axes>"
      ]
     },
     "metadata": {},
     "output_type": "display_data"
    }
   ],
   "source": [
    "print(data['Make'].value_counts().to_frame())\n",
    "plt.hist(data['Make'],rwidth=1)\n",
    "plt.xticks(rotation=50)\n",
    "plt.grid()\n",
    "plt.show()"
   ]
  },
  {
   "cell_type": "code",
   "execution_count": 50,
   "id": "c5f2fd61",
   "metadata": {},
   "outputs": [],
   "source": [
    "#4.Modeling"
   ]
  },
  {
   "cell_type": "code",
   "execution_count": 51,
   "id": "4d8326e4",
   "metadata": {},
   "outputs": [
    {
     "name": "stdout",
     "output_type": "stream",
     "text": [
      "<class 'pandas.core.frame.DataFrame'>\n",
      "Int64Index: 8085 entries, 0 to 11913\n",
      "Data columns (total 16 columns):\n",
      " #   Column             Non-Null Count  Dtype  \n",
      "---  ------             --------------  -----  \n",
      " 0   Make               8085 non-null   object \n",
      " 1   Model              8085 non-null   object \n",
      " 2   Year               8085 non-null   int64  \n",
      " 3   Engine_Fuel_Type   8085 non-null   object \n",
      " 4   Engine_HP          8085 non-null   float64\n",
      " 5   Engine_Cylinders   8085 non-null   float64\n",
      " 6   Transmission_Type  8085 non-null   object \n",
      " 7   Driven_Wheels      8085 non-null   object \n",
      " 8   Number_of_Doors    8085 non-null   float64\n",
      " 9   Market_Category    8085 non-null   object \n",
      " 10  Vehicle_Size       8085 non-null   object \n",
      " 11  Vehicle Style      8085 non-null   object \n",
      " 12  highway_MPG        8085 non-null   int64  \n",
      " 13  city_mpg           8085 non-null   int64  \n",
      " 14  Popularity         8085 non-null   int64  \n",
      " 15  MSRP               8085 non-null   int64  \n",
      "dtypes: float64(3), int64(5), object(8)\n",
      "memory usage: 1.0+ MB\n"
     ]
    }
   ],
   "source": [
    "data.info()"
   ]
  },
  {
   "cell_type": "code",
   "execution_count": 53,
   "id": "e269b789",
   "metadata": {},
   "outputs": [],
   "source": [
    "#Encoding\n",
    "#Except the target column (MSRP), all other features are to encoded\n",
    "\n",
    "from sklearn.preprocessing import LabelEncoder\n",
    "class_en = LabelEncoder()\n",
    "data['Make']=class_en.fit_transform(data['Make'])\n",
    "data['Model']=class_en.fit_transform(data['Model'])\n",
    "data['Engine_Fuel_Type']=class_en.fit_transform(data['Engine_Fuel_Type'])\n",
    "data['Transmission_Type']=class_en.fit_transform(data['Transmission_Type'])\n",
    "data['Driven_Wheels']=class_en.fit_transform(data['Driven_Wheels'])\n",
    "data['Market_Category']=class_en.fit_transform(data['Market_Category'])\n",
    "data['Vehicle_Size']=class_en.fit_transform(data['Vehicle_Size'])\n",
    "data['Vehicle Style']=class_en.fit_transform(data['Vehicle Style'])"
   ]
  },
  {
   "cell_type": "code",
   "execution_count": 54,
   "id": "d9b55e3a",
   "metadata": {},
   "outputs": [
    {
     "name": "stdout",
     "output_type": "stream",
     "text": [
      "<class 'pandas.core.frame.DataFrame'>\n",
      "Int64Index: 8085 entries, 0 to 11913\n",
      "Data columns (total 16 columns):\n",
      " #   Column             Non-Null Count  Dtype  \n",
      "---  ------             --------------  -----  \n",
      " 0   Make               8085 non-null   int64  \n",
      " 1   Model              8085 non-null   int64  \n",
      " 2   Year               8085 non-null   int64  \n",
      " 3   Engine_Fuel_Type   8085 non-null   int32  \n",
      " 4   Engine_HP          8085 non-null   float64\n",
      " 5   Engine_Cylinders   8085 non-null   float64\n",
      " 6   Transmission_Type  8085 non-null   int32  \n",
      " 7   Driven_Wheels      8085 non-null   int32  \n",
      " 8   Number_of_Doors    8085 non-null   float64\n",
      " 9   Market_Category    8085 non-null   int32  \n",
      " 10  Vehicle_Size       8085 non-null   int32  \n",
      " 11  Vehicle Style      8085 non-null   int32  \n",
      " 12  highway_MPG        8085 non-null   int64  \n",
      " 13  city_mpg           8085 non-null   int64  \n",
      " 14  Popularity         8085 non-null   int64  \n",
      " 15  MSRP               8085 non-null   int64  \n",
      "dtypes: float64(3), int32(6), int64(7)\n",
      "memory usage: 884.3 KB\n"
     ]
    }
   ],
   "source": [
    "data.info()"
   ]
  },
  {
   "cell_type": "code",
   "execution_count": 55,
   "id": "f67d976f",
   "metadata": {},
   "outputs": [],
   "source": [
    "# Splitting the dataset into features and target set.\n",
    "x=data.drop(['MSRP'],axis=1)\n",
    "y=pd.DataFrame(data['MSRP'])"
   ]
  },
  {
   "cell_type": "code",
   "execution_count": 56,
   "id": "8bb03d75",
   "metadata": {},
   "outputs": [],
   "source": [
    "from sklearn.model_selection import train_test_split\n",
    "x_train,x_test,y_train,y_test = train_test_split(x,y,random_state=42,test_size=0.3)"
   ]
  },
  {
   "cell_type": "code",
   "execution_count": 57,
   "id": "e66283d7",
   "metadata": {},
   "outputs": [
    {
     "data": {
      "text/html": [
       "<div>\n",
       "<style scoped>\n",
       "    .dataframe tbody tr th:only-of-type {\n",
       "        vertical-align: middle;\n",
       "    }\n",
       "\n",
       "    .dataframe tbody tr th {\n",
       "        vertical-align: top;\n",
       "    }\n",
       "\n",
       "    .dataframe thead th {\n",
       "        text-align: right;\n",
       "    }\n",
       "</style>\n",
       "<table border=\"1\" class=\"dataframe\">\n",
       "  <thead>\n",
       "    <tr style=\"text-align: right;\">\n",
       "      <th></th>\n",
       "      <th>Make</th>\n",
       "      <th>Model</th>\n",
       "      <th>Year</th>\n",
       "      <th>Engine_Fuel_Type</th>\n",
       "      <th>Engine_HP</th>\n",
       "      <th>Engine_Cylinders</th>\n",
       "      <th>Transmission_Type</th>\n",
       "      <th>Driven_Wheels</th>\n",
       "      <th>Number_of_Doors</th>\n",
       "      <th>Market_Category</th>\n",
       "      <th>Vehicle_Size</th>\n",
       "      <th>Vehicle Style</th>\n",
       "      <th>highway_MPG</th>\n",
       "      <th>city_mpg</th>\n",
       "      <th>Popularity</th>\n",
       "    </tr>\n",
       "  </thead>\n",
       "  <tbody>\n",
       "    <tr>\n",
       "      <th>6226</th>\n",
       "      <td>33</td>\n",
       "      <td>377</td>\n",
       "      <td>2015</td>\n",
       "      <td>5</td>\n",
       "      <td>188.0</td>\n",
       "      <td>4.0</td>\n",
       "      <td>3</td>\n",
       "      <td>2</td>\n",
       "      <td>4.0</td>\n",
       "      <td>14</td>\n",
       "      <td>0</td>\n",
       "      <td>2</td>\n",
       "      <td>34</td>\n",
       "      <td>28</td>\n",
       "      <td>2009</td>\n",
       "    </tr>\n",
       "    <tr>\n",
       "      <th>150</th>\n",
       "      <td>4</td>\n",
       "      <td>12</td>\n",
       "      <td>2016</td>\n",
       "      <td>6</td>\n",
       "      <td>240.0</td>\n",
       "      <td>4.0</td>\n",
       "      <td>1</td>\n",
       "      <td>0</td>\n",
       "      <td>4.0</td>\n",
       "      <td>62</td>\n",
       "      <td>2</td>\n",
       "      <td>15</td>\n",
       "      <td>34</td>\n",
       "      <td>22</td>\n",
       "      <td>3916</td>\n",
       "    </tr>\n",
       "    <tr>\n",
       "      <th>1721</th>\n",
       "      <td>29</td>\n",
       "      <td>117</td>\n",
       "      <td>2000</td>\n",
       "      <td>4</td>\n",
       "      <td>143.0</td>\n",
       "      <td>6.0</td>\n",
       "      <td>3</td>\n",
       "      <td>3</td>\n",
       "      <td>2.0</td>\n",
       "      <td>40</td>\n",
       "      <td>0</td>\n",
       "      <td>10</td>\n",
       "      <td>21</td>\n",
       "      <td>16</td>\n",
       "      <td>586</td>\n",
       "    </tr>\n",
       "    <tr>\n",
       "      <th>4307</th>\n",
       "      <td>20</td>\n",
       "      <td>229</td>\n",
       "      <td>2013</td>\n",
       "      <td>5</td>\n",
       "      <td>325.0</td>\n",
       "      <td>6.0</td>\n",
       "      <td>1</td>\n",
       "      <td>0</td>\n",
       "      <td>4.0</td>\n",
       "      <td>16</td>\n",
       "      <td>2</td>\n",
       "      <td>3</td>\n",
       "      <td>24</td>\n",
       "      <td>17</td>\n",
       "      <td>190</td>\n",
       "    </tr>\n",
       "    <tr>\n",
       "      <th>9792</th>\n",
       "      <td>9</td>\n",
       "      <td>602</td>\n",
       "      <td>2017</td>\n",
       "      <td>7</td>\n",
       "      <td>138.0</td>\n",
       "      <td>4.0</td>\n",
       "      <td>3</td>\n",
       "      <td>2</td>\n",
       "      <td>4.0</td>\n",
       "      <td>49</td>\n",
       "      <td>0</td>\n",
       "      <td>2</td>\n",
       "      <td>39</td>\n",
       "      <td>28</td>\n",
       "      <td>1385</td>\n",
       "    </tr>\n",
       "  </tbody>\n",
       "</table>\n",
       "</div>"
      ],
      "text/plain": [
       "      Make  Model  Year  Engine_Fuel_Type  Engine_HP  Engine_Cylinders  \\\n",
       "6226    33    377  2015                 5      188.0               4.0   \n",
       "150      4     12  2016                 6      240.0               4.0   \n",
       "1721    29    117  2000                 4      143.0               6.0   \n",
       "4307    20    229  2013                 5      325.0               6.0   \n",
       "9792     9    602  2017                 7      138.0               4.0   \n",
       "\n",
       "      Transmission_Type  Driven_Wheels  Number_of_Doors  Market_Category  \\\n",
       "6226                  3              2              4.0               14   \n",
       "150                   1              0              4.0               62   \n",
       "1721                  3              3              2.0               40   \n",
       "4307                  1              0              4.0               16   \n",
       "9792                  3              2              4.0               49   \n",
       "\n",
       "      Vehicle_Size  Vehicle Style  highway_MPG  city_mpg  Popularity  \n",
       "6226             0              2           34        28        2009  \n",
       "150              2             15           34        22        3916  \n",
       "1721             0             10           21        16         586  \n",
       "4307             2              3           24        17         190  \n",
       "9792             0              2           39        28        1385  "
      ]
     },
     "execution_count": 57,
     "metadata": {},
     "output_type": "execute_result"
    }
   ],
   "source": [
    "x_train.head()"
   ]
  },
  {
   "cell_type": "code",
   "execution_count": 58,
   "id": "382941b7",
   "metadata": {},
   "outputs": [],
   "source": [
    "#Linear Regression\n",
    "from sklearn.linear_model import LinearRegression\n",
    "lr = LinearRegression()\n",
    "lr.fit(x_train, y_train)\n",
    "y_pred = lr.predict(x_test)"
   ]
  },
  {
   "cell_type": "code",
   "execution_count": 59,
   "id": "c24a6198",
   "metadata": {},
   "outputs": [
    {
     "name": "stdout",
     "output_type": "stream",
     "text": [
      "2423738514.8707566\n",
      "0.5111480365494474\n"
     ]
    }
   ],
   "source": [
    "from sklearn.metrics import mean_squared_error, r2_score\n",
    "print(mean_squared_error(y_test,y_pred))\n",
    "print(r2_score(y_test,y_pred))"
   ]
  },
  {
   "cell_type": "code",
   "execution_count": 60,
   "id": "cf0fef66",
   "metadata": {},
   "outputs": [
    {
     "data": {
      "text/html": [
       "<div>\n",
       "<style scoped>\n",
       "    .dataframe tbody tr th:only-of-type {\n",
       "        vertical-align: middle;\n",
       "    }\n",
       "\n",
       "    .dataframe tbody tr th {\n",
       "        vertical-align: top;\n",
       "    }\n",
       "\n",
       "    .dataframe thead th {\n",
       "        text-align: right;\n",
       "    }\n",
       "</style>\n",
       "<table border=\"1\" class=\"dataframe\">\n",
       "  <thead>\n",
       "    <tr style=\"text-align: right;\">\n",
       "      <th></th>\n",
       "      <th>Actual Price</th>\n",
       "      <th>Predicted Price</th>\n",
       "    </tr>\n",
       "  </thead>\n",
       "  <tbody>\n",
       "    <tr>\n",
       "      <th>2170</th>\n",
       "      <td>29205.0</td>\n",
       "      <td>244496.738740</td>\n",
       "    </tr>\n",
       "    <tr>\n",
       "      <th>345</th>\n",
       "      <td>45490.0</td>\n",
       "      <td>72407.131216</td>\n",
       "    </tr>\n",
       "    <tr>\n",
       "      <th>536</th>\n",
       "      <td>3613.0</td>\n",
       "      <td>79156.351647</td>\n",
       "    </tr>\n",
       "    <tr>\n",
       "      <th>1618</th>\n",
       "      <td>25795.0</td>\n",
       "      <td>43498.476204</td>\n",
       "    </tr>\n",
       "    <tr>\n",
       "      <th>2420</th>\n",
       "      <td>37820.0</td>\n",
       "      <td>203809.793680</td>\n",
       "    </tr>\n",
       "  </tbody>\n",
       "</table>\n",
       "</div>"
      ],
      "text/plain": [
       "      Actual Price  Predicted Price\n",
       "2170       29205.0    244496.738740\n",
       "345        45490.0     72407.131216\n",
       "536         3613.0     79156.351647\n",
       "1618       25795.0     43498.476204\n",
       "2420       37820.0    203809.793680"
      ]
     },
     "execution_count": 60,
     "metadata": {},
     "output_type": "execute_result"
    }
   ],
   "source": [
    "y_test = pd.DataFrame(y_test)\n",
    "y_pred = pd.DataFrame(y_pred)\n",
    "table = pd.concat([y_test, y_pred], axis=1)\n",
    "table = table.dropna()\n",
    "table.columns = ['Actual Price','Predicted Price']\n",
    "table.head()"
   ]
  },
  {
   "cell_type": "code",
   "execution_count": 61,
   "id": "6fba4b0c",
   "metadata": {},
   "outputs": [],
   "source": [
    "#KNN Regressor\n",
    "from sklearn.neighbors import KNeighborsRegressor\n",
    "knn = KNeighborsRegressor(n_neighbors=12)\n",
    "knn.fit(x_train, y_train)\n",
    "y_pred_knn = knn.predict(x_test)"
   ]
  },
  {
   "cell_type": "code",
   "execution_count": 62,
   "id": "a85ec80a",
   "metadata": {},
   "outputs": [
    {
     "name": "stdout",
     "output_type": "stream",
     "text": [
      "1441408253.661202\n",
      "0.7092775270051419\n"
     ]
    }
   ],
   "source": [
    "from sklearn.metrics import mean_squared_error, r2_score\n",
    "print(mean_squared_error(y_test,y_pred_knn))\n",
    "print(r2_score(y_test,y_pred_knn))"
   ]
  },
  {
   "cell_type": "code",
   "execution_count": 63,
   "id": "9cfe68a9",
   "metadata": {},
   "outputs": [
    {
     "data": {
      "text/html": [
       "<div>\n",
       "<style scoped>\n",
       "    .dataframe tbody tr th:only-of-type {\n",
       "        vertical-align: middle;\n",
       "    }\n",
       "\n",
       "    .dataframe tbody tr th {\n",
       "        vertical-align: top;\n",
       "    }\n",
       "\n",
       "    .dataframe thead th {\n",
       "        text-align: right;\n",
       "    }\n",
       "</style>\n",
       "<table border=\"1\" class=\"dataframe\">\n",
       "  <thead>\n",
       "    <tr style=\"text-align: right;\">\n",
       "      <th></th>\n",
       "      <th>Actual Price</th>\n",
       "      <th>Predicted Price</th>\n",
       "    </tr>\n",
       "  </thead>\n",
       "  <tbody>\n",
       "    <tr>\n",
       "      <th>2170</th>\n",
       "      <td>29205.0</td>\n",
       "      <td>271834.916667</td>\n",
       "    </tr>\n",
       "    <tr>\n",
       "      <th>345</th>\n",
       "      <td>45490.0</td>\n",
       "      <td>43740.833333</td>\n",
       "    </tr>\n",
       "    <tr>\n",
       "      <th>536</th>\n",
       "      <td>3613.0</td>\n",
       "      <td>44885.000000</td>\n",
       "    </tr>\n",
       "    <tr>\n",
       "      <th>1618</th>\n",
       "      <td>25795.0</td>\n",
       "      <td>55649.583333</td>\n",
       "    </tr>\n",
       "    <tr>\n",
       "      <th>2420</th>\n",
       "      <td>37820.0</td>\n",
       "      <td>220833.333333</td>\n",
       "    </tr>\n",
       "  </tbody>\n",
       "</table>\n",
       "</div>"
      ],
      "text/plain": [
       "      Actual Price  Predicted Price\n",
       "2170       29205.0    271834.916667\n",
       "345        45490.0     43740.833333\n",
       "536         3613.0     44885.000000\n",
       "1618       25795.0     55649.583333\n",
       "2420       37820.0    220833.333333"
      ]
     },
     "execution_count": 63,
     "metadata": {},
     "output_type": "execute_result"
    }
   ],
   "source": [
    "y_test = pd.DataFrame(y_test)\n",
    "y_pred = pd.DataFrame(y_pred_knn)\n",
    "table = pd.concat([y_test, y_pred], axis=1)\n",
    "table = table.dropna()\n",
    "table.columns = ['Actual Price','Predicted Price']\n",
    "table.head()"
   ]
  },
  {
   "cell_type": "code",
   "execution_count": 64,
   "id": "49b8f5a6",
   "metadata": {},
   "outputs": [
    {
     "name": "stderr",
     "output_type": "stream",
     "text": [
      "C:\\Users\\AbinPC\\AppData\\Local\\Temp\\ipykernel_15440\\3479472157.py:4: DataConversionWarning: A column-vector y was passed when a 1d array was expected. Please change the shape of y to (n_samples,), for example using ravel().\n",
      "  rf_reg.fit(x_train, y_train)\n"
     ]
    }
   ],
   "source": [
    "#Random Forest Regressor\n",
    "from sklearn.ensemble import RandomForestRegressor\n",
    "rf_reg = RandomForestRegressor(random_state=45,max_depth=16,n_estimators=200)\n",
    "rf_reg.fit(x_train, y_train)\n",
    "y_pred_rf = rf_reg.predict(x_test)"
   ]
  },
  {
   "cell_type": "code",
   "execution_count": 65,
   "id": "d825b408",
   "metadata": {},
   "outputs": [
    {
     "name": "stdout",
     "output_type": "stream",
     "text": [
      "687779884.0491977\n",
      "0.861279364635928\n"
     ]
    }
   ],
   "source": [
    "from sklearn.metrics import mean_squared_error, r2_score\n",
    "print(mean_squared_error(y_test,y_pred_rf))\n",
    "print(r2_score(y_test,y_pred_rf))"
   ]
  },
  {
   "cell_type": "code",
   "execution_count": 66,
   "id": "d1d4801c",
   "metadata": {},
   "outputs": [
    {
     "data": {
      "text/html": [
       "<div>\n",
       "<style scoped>\n",
       "    .dataframe tbody tr th:only-of-type {\n",
       "        vertical-align: middle;\n",
       "    }\n",
       "\n",
       "    .dataframe tbody tr th {\n",
       "        vertical-align: top;\n",
       "    }\n",
       "\n",
       "    .dataframe thead th {\n",
       "        text-align: right;\n",
       "    }\n",
       "</style>\n",
       "<table border=\"1\" class=\"dataframe\">\n",
       "  <thead>\n",
       "    <tr style=\"text-align: right;\">\n",
       "      <th></th>\n",
       "      <th>Actual Price</th>\n",
       "      <th>Predicted Price</th>\n",
       "    </tr>\n",
       "  </thead>\n",
       "  <tbody>\n",
       "    <tr>\n",
       "      <th>2170</th>\n",
       "      <td>29205.0</td>\n",
       "      <td>289861.140000</td>\n",
       "    </tr>\n",
       "    <tr>\n",
       "      <th>345</th>\n",
       "      <td>45490.0</td>\n",
       "      <td>51950.416885</td>\n",
       "    </tr>\n",
       "    <tr>\n",
       "      <th>536</th>\n",
       "      <td>3613.0</td>\n",
       "      <td>44408.183728</td>\n",
       "    </tr>\n",
       "    <tr>\n",
       "      <th>1618</th>\n",
       "      <td>25795.0</td>\n",
       "      <td>55888.041751</td>\n",
       "    </tr>\n",
       "    <tr>\n",
       "      <th>2420</th>\n",
       "      <td>37820.0</td>\n",
       "      <td>189079.508512</td>\n",
       "    </tr>\n",
       "  </tbody>\n",
       "</table>\n",
       "</div>"
      ],
      "text/plain": [
       "      Actual Price  Predicted Price\n",
       "2170       29205.0    289861.140000\n",
       "345        45490.0     51950.416885\n",
       "536         3613.0     44408.183728\n",
       "1618       25795.0     55888.041751\n",
       "2420       37820.0    189079.508512"
      ]
     },
     "execution_count": 66,
     "metadata": {},
     "output_type": "execute_result"
    }
   ],
   "source": [
    "y_test = pd.DataFrame(y_test)\n",
    "y_pred = pd.DataFrame(y_pred_rf)\n",
    "table = pd.concat([y_test, y_pred], axis=1)\n",
    "table = table.dropna()\n",
    "table.columns = ['Actual Price','Predicted Price']\n",
    "table.head()"
   ]
  },
  {
   "cell_type": "code",
   "execution_count": null,
   "id": "a3ac2fb3",
   "metadata": {},
   "outputs": [],
   "source": [
    "#Note:\n",
    "\n",
    "Random Forest Regressor is having an r2 score value of 0.86 and is a comparatively good model."
   ]
  }
 ],
 "metadata": {
  "kernelspec": {
   "display_name": "Python 3 (ipykernel)",
   "language": "python",
   "name": "python3"
  },
  "language_info": {
   "codemirror_mode": {
    "name": "ipython",
    "version": 3
   },
   "file_extension": ".py",
   "mimetype": "text/x-python",
   "name": "python",
   "nbconvert_exporter": "python",
   "pygments_lexer": "ipython3",
   "version": "3.9.13"
  }
 },
 "nbformat": 4,
 "nbformat_minor": 5
}
